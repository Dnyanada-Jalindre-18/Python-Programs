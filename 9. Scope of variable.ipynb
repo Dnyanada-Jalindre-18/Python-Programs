{
 "metadata": {
  "language_info": {
   "codemirror_mode": {
    "name": "ipython",
    "version": 3
   },
   "file_extension": ".py",
   "mimetype": "text/x-python",
   "name": "python",
   "nbconvert_exporter": "python",
   "pygments_lexer": "ipython3",
   "version": "3.8.3-final"
  },
  "orig_nbformat": 2,
  "kernelspec": {
   "name": "Python 3.8.3 64-bit",
   "display_name": "Python 3.8.3 64-bit",
   "metadata": {
    "interpreter": {
     "hash": "bd9b9fa2e01573c04c615c80eb9deceb460a08e7f2fed43cdd24f3a908b6f3b1"
    }
   }
  }
 },
 "nbformat": 4,
 "nbformat_minor": 2,
 "cells": [
  {
   "source": [
    "# Scope of Variables\n",
    "## Local scope"
   ],
   "cell_type": "markdown",
   "metadata": {}
  },
  {
   "source": [
    "def my_func():\n",
    "    x = 10\n",
    "    print(x)\n",
    "\n",
    "my_func()                       # Local variable x = 10 will be printed\n",
    "print(x)                        # Error : 'x' is not defined"
   ],
   "cell_type": "code",
   "metadata": {},
   "execution_count": 1,
   "outputs": [
    {
     "output_type": "stream",
     "name": "stdout",
     "text": [
      "10\n"
     ]
    },
    {
     "output_type": "error",
     "ename": "NameError",
     "evalue": "name 'x' is not defined",
     "traceback": [
      "\u001b[1;31m---------------------------------------------------------------------------\u001b[0m",
      "\u001b[1;31mNameError\u001b[0m                                 Traceback (most recent call last)",
      "\u001b[1;32m<ipython-input-1-e1f0a534ac59>\u001b[0m in \u001b[0;36m<module>\u001b[1;34m\u001b[0m\n\u001b[0;32m      4\u001b[0m \u001b[1;33m\u001b[0m\u001b[0m\n\u001b[0;32m      5\u001b[0m \u001b[0mmy_func\u001b[0m\u001b[1;33m(\u001b[0m\u001b[1;33m)\u001b[0m                       \u001b[1;31m# Local variable x = 10 will be printed\u001b[0m\u001b[1;33m\u001b[0m\u001b[1;33m\u001b[0m\u001b[0m\n\u001b[1;32m----> 6\u001b[1;33m \u001b[0mprint\u001b[0m\u001b[1;33m(\u001b[0m\u001b[0mx\u001b[0m\u001b[1;33m)\u001b[0m                        \u001b[1;31m# Error : 'x' is not defined\u001b[0m\u001b[1;33m\u001b[0m\u001b[1;33m\u001b[0m\u001b[0m\n\u001b[0m",
      "\u001b[1;31mNameError\u001b[0m: name 'x' is not defined"
     ]
    }
   ]
  },
  {
   "source": [
    "## Global scope"
   ],
   "cell_type": "markdown",
   "metadata": {}
  },
  {
   "cell_type": "code",
   "execution_count": 2,
   "metadata": {},
   "outputs": [
    {
     "output_type": "stream",
     "name": "stdout",
     "text": [
      "My variable : 20\n"
     ]
    }
   ],
   "source": [
    "# Example 1\n",
    "x = 20                                   # Global variable\n",
    "def my_func():\n",
    "    print(\"My variable :\", x)\n",
    "\n",
    "my_func()"
   ]
  },
  {
   "cell_type": "code",
   "execution_count": 3,
   "metadata": {},
   "outputs": [
    {
     "output_type": "stream",
     "name": "stdout",
     "text": [
      "My variable :  10\nMy inner variable : 10\nGlobal variable :  10\n"
     ]
    }
   ],
   "source": [
    "# Example 2 : nested functions\n",
    "x = 10\n",
    "def func():\n",
    "    print(\"My variable : \", x)\n",
    "\n",
    "    def inner_func():\n",
    "        print(\"My inner variable :\", x)\n",
    "\n",
    "    inner_func()\n",
    "\n",
    "func()\n",
    "print(\"Global variable : \", x)\n"
   ]
  },
  {
   "source": [
    "## Enclosing scope"
   ],
   "cell_type": "markdown",
   "metadata": {}
  },
  {
   "cell_type": "code",
   "execution_count": 4,
   "metadata": {},
   "outputs": [
    {
     "output_type": "stream",
     "name": "stdout",
     "text": [
      "variable y =  30\n"
     ]
    },
    {
     "output_type": "error",
     "ename": "NameError",
     "evalue": "name 'y' is not defined",
     "traceback": [
      "\u001b[1;31m---------------------------------------------------------------------------\u001b[0m",
      "\u001b[1;31mNameError\u001b[0m                                 Traceback (most recent call last)",
      "\u001b[1;32m<ipython-input-4-c9d43202b8c3>\u001b[0m in \u001b[0;36m<module>\u001b[1;34m\u001b[0m\n\u001b[0;32m      6\u001b[0m \u001b[1;33m\u001b[0m\u001b[0m\n\u001b[0;32m      7\u001b[0m \u001b[0mmy_func\u001b[0m\u001b[1;33m(\u001b[0m\u001b[1;33m)\u001b[0m\u001b[1;33m\u001b[0m\u001b[1;33m\u001b[0m\u001b[0m\n\u001b[1;32m----> 8\u001b[1;33m \u001b[0mprint\u001b[0m\u001b[1;33m(\u001b[0m\u001b[1;34m\"variable y = \"\u001b[0m\u001b[1;33m,\u001b[0m \u001b[0my\u001b[0m\u001b[1;33m)\u001b[0m               \u001b[1;31m# Error : y is not defined\u001b[0m\u001b[1;33m\u001b[0m\u001b[1;33m\u001b[0m\u001b[0m\n\u001b[0m",
      "\u001b[1;31mNameError\u001b[0m: name 'y' is not defined"
     ]
    }
   ],
   "source": [
    "def my_func():\n",
    "    y = 30\n",
    "    def my_inner_func():\n",
    "        print(\"variable y = \", y)\n",
    "    my_inner_func()\n",
    "\n",
    "my_func()\n",
    "print(\"variable y = \", y)               # Error : y is not defined"
   ]
  },
  {
   "source": [
    "## Changing global variables inside function"
   ],
   "cell_type": "markdown",
   "metadata": {}
  },
  {
   "cell_type": "code",
   "execution_count": 5,
   "metadata": {},
   "outputs": [
    {
     "output_type": "stream",
     "name": "stdout",
     "text": [
      "Local x  = 20\nGlobal x = 10\n"
     ]
    }
   ],
   "source": [
    "x = 10                                  # Global variable x\n",
    "\n",
    "def demo():\n",
    "    x = 20\n",
    "    print(\"Local x  =\", x)              # Local variable\n",
    "\n",
    "demo()\n",
    "print(\"Global x =\", x)"
   ]
  },
  {
   "cell_type": "code",
   "execution_count": 6,
   "metadata": {},
   "outputs": [
    {
     "output_type": "stream",
     "name": "stdout",
     "text": [
      "Local x  = 20\nGlobal x = 20\n"
     ]
    }
   ],
   "source": [
    "x = 10                                  # Global variable x\n",
    "\n",
    "def demo():\n",
    "    global x                            # Global x can be changed \n",
    "    x = 20\n",
    "    print(\"Local x  =\", x)              # Local variable\n",
    "\n",
    "demo()\n",
    "print(\"Global x =\", x)"
   ]
  }
 ]
}
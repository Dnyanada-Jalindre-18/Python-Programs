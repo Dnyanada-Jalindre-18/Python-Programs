{
 "cells": [
  {
   "cell_type": "markdown",
   "metadata": {},
   "source": [
    "# Inbuilt functions in python"
   ]
  },
  {
   "cell_type": "markdown",
   "metadata": {},
   "source": [
    "### count() : For counting the number of occurances of substring"
   ]
  },
  {
   "cell_type": "code",
   "execution_count": null,
   "metadata": {},
   "outputs": [],
   "source": [
    "str1 = \"Among c,c++,java,python languages I like python..!\"\n",
    "a = str1.count(\"python\")\n",
    "print(a)"
   ]
  },
  {
   "cell_type": "markdown",
   "metadata": {},
   "source": [
    "### center() : aligns the string to the center using the specified character"
   ]
  },
  {
   "cell_type": "code",
   "execution_count": null,
   "metadata": {},
   "outputs": [],
   "source": [
    "str1 = \"Python\"\n",
    "a = str1.center(20, '-')\n",
    "print(a)"
   ]
  },
  {
   "cell_type": "markdown",
   "metadata": {},
   "source": [
    "### isalnum() : Returns True if all characters in the string are alphanumeric\n",
    "### isalpha() : Returns True if all characters in the string are alphabets\n",
    "### isnumeric()\tReturns True if all characters in the string are numeric\n"
   ]
  },
  {
   "cell_type": "code",
   "execution_count": null,
   "metadata": {},
   "outputs": [],
   "source": [
    "str1 = \"Python123\"\n",
    "print(str1.isalnum())\n",
    "print(str1.isalpha())\n",
    "print(str1.isnumeric())"
   ]
  },
  {
   "cell_type": "code",
   "execution_count": null,
   "metadata": {},
   "outputs": [],
   "source": [
    "str2 = \"python\"\n",
    "print(str2.isalnum())\n",
    "print(str2.isalpha())\n",
    "print(str2.isnumeric())"
   ]
  },
  {
   "cell_type": "code",
   "execution_count": null,
   "metadata": {},
   "outputs": [],
   "source": [
    "str3 = \"12345\"\n",
    "print(str3.isalnum())\n",
    "print(str3.isalpha())\n",
    "print(str3.isnumeric())"
   ]
  },
  {
   "cell_type": "markdown",
   "metadata": {},
   "source": [
    "### strip(), rstrip(), lstrip() : For removing leading and trailing characters"
   ]
  },
  {
   "cell_type": "code",
   "execution_count": null,
   "metadata": {},
   "outputs": [],
   "source": [
    "str1 = \"        World        \"\n",
    "print(\"Hello\",str1.strip(),\"!\")      #removes both leading and trailing characters\n",
    "print(\"Hello\",str1.rstrip(),\"!\")     #removes any trailing characters\n",
    "print(\"Hello\",str1.lstrip(),\"!\")     #removes any leading characters"
   ]
  },
  {
   "cell_type": "markdown",
   "metadata": {},
   "source": [
    "### startswith() & endswith()"
   ]
  },
  {
   "cell_type": "code",
   "execution_count": null,
   "metadata": {},
   "outputs": [],
   "source": [
    "str1 = \"This is the world of python !\"\n",
    "print(str1.startswith(\"This\"))               # returns True if the string starts with the specified value, otherwise False\n",
    "print(str1.endswith(\"!\"))                    # returns True if the string ends with the specified value, otherwise False"
   ]
  },
  {
   "source": [
    "### Other inbuilt functions :"
   ],
   "cell_type": "markdown",
   "metadata": {}
  },
  {
   "cell_type": "code",
   "execution_count": null,
   "metadata": {},
   "outputs": [],
   "source": [
    "# chr() : returns character that represents the unicode\n",
    "print(chr(97))\n",
    "print(chr(65))"
   ]
  },
  {
   "cell_type": "code",
   "execution_count": null,
   "metadata": {},
   "outputs": [],
   "source": [
    "# find() : Searches the string for a specified value and returns the position of where it was found \n",
    "str1 = \"Welcome to python\"\n",
    "a = str1.find(\"to\")\n",
    "print(a)"
   ]
  },
  {
   "cell_type": "code",
   "execution_count": null,
   "metadata": {},
   "outputs": [],
   "source": [
    "# sorted() : returns sorted list\n",
    "a = (\"c\", \"v\", \"a\", \"f\", \"b\")\n",
    "print(sorted(a))"
   ]
  },
  {
   "cell_type": "code",
   "execution_count": null,
   "metadata": {},
   "outputs": [],
   "source": [
    "# abs() : returns absolute value of number\n",
    "a = abs(-2)\n",
    "print(a)"
   ]
  },
  {
   "cell_type": "code",
   "execution_count": null,
   "metadata": {},
   "outputs": [],
   "source": [
    "# round() : rounds the number\n",
    "num = round(2.2567, 2)\n",
    "print(num)"
   ]
  },
  {
   "cell_type": "code",
   "execution_count": null,
   "metadata": {},
   "outputs": [],
   "source": [
    "# complex() : convert given number into its complex form\n",
    "a = complex(2, 5)\n",
    "print(a)"
   ]
  },
  {
   "cell_type": "code",
   "execution_count": null,
   "metadata": {},
   "outputs": [],
   "source": [
    "# min() & max() functions\n",
    "num = [1,2,3,4,5]\n",
    "print(max(num))         # returns max number\n",
    "print(min(num))         # returns min number"
   ]
  },
  {
   "cell_type": "markdown",
   "metadata": {},
   "source": [
    "## Task 2"
   ]
  },
  {
   "cell_type": "code",
   "execution_count": null,
   "metadata": {},
   "outputs": [],
   "source": [
    "# finding the occurance of \"to\" in given string\n",
    "str1 = \"Welcome to Python\"\n",
    "x = \"to\" in str1\n",
    "print(x)"
   ]
  },
  {
   "cell_type": "code",
   "execution_count": null,
   "metadata": {},
   "outputs": [],
   "source": [
    "print(\"to\" in \"Welcome to python\")"
   ]
  }
 ],
 "metadata": {
  "kernelspec": {
   "display_name": "Python 3",
   "language": "python",
   "name": "python3"
  },
  "language_info": {
   "codemirror_mode": {
    "name": "ipython",
    "version": 3
   },
   "file_extension": ".py",
   "mimetype": "text/x-python",
   "name": "python",
   "nbconvert_exporter": "python",
   "pygments_lexer": "ipython3",
   "version": "3.8.3-final"
  }
 },
 "nbformat": 4,
 "nbformat_minor": 2
}

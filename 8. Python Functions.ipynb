{
 "metadata": {
  "language_info": {
   "codemirror_mode": {
    "name": "ipython",
    "version": 3
   },
   "file_extension": ".py",
   "mimetype": "text/x-python",
   "name": "python",
   "nbconvert_exporter": "python",
   "pygments_lexer": "ipython3",
   "version": "3.8.3-final"
  },
  "orig_nbformat": 2,
  "kernelspec": {
   "name": "Python 3.8.3 64-bit",
   "display_name": "Python 3.8.3 64-bit",
   "metadata": {
    "interpreter": {
     "hash": "bd9b9fa2e01573c04c615c80eb9deceb460a08e7f2fed43cdd24f3a908b6f3b1"
    }
   }
  }
 },
 "nbformat": 4,
 "nbformat_minor": 2,
 "cells": [
  {
   "source": [
    "# Python Functions\n",
    "## Task11\n",
    "Ask 2 numbers from users and store it in num1 and num2\n",
    "* Ask user to press 1 for addition,2 for subtraction,3 for multiplication and 4 for division\n",
    "* create 4 seperate functions for each operation (i.e. addition,subtraction,multiplication and division)\n",
    "* based on number given by user,call that perticular function and print the output"
   ],
   "cell_type": "markdown",
   "metadata": {}
  },
  {
   "cell_type": "code",
   "execution_count": 4,
   "metadata": {},
   "outputs": [
    {
     "output_type": "stream",
     "name": "stdout",
     "text": [
      "You entered : 20 & 30\n",
      "Choice :  3\n",
      "Multiplication :  600\n"
     ]
    }
   ],
   "source": [
    "num1 =  int(input(\"Enter first number : \"))\n",
    "num2 =  int(input(\"Enter second number : \"))\n",
    "print(\"You entered : {} & {}\".format(num1, num2))\n",
    "ch = input(\"1.Addition \\n2.Subtraction \\n3.Multiplication \\n4.Division \")\n",
    "print(\"Choice : \",ch)\n",
    "\n",
    "def addition(x,y):\n",
    "    print(\"Addition\", x + y)\n",
    "\n",
    "def subtraction(x,y):\n",
    "    print(\"Subtraction : \", x - y)\n",
    "\n",
    "def multiplication(x,y):\n",
    "    print(\"Multiplication : \", x * y)\n",
    "\n",
    "def division(x,y):\n",
    "    if y == 0:\n",
    "        print(\"Can't divide {} by 0\".format(x))\n",
    "    else:\n",
    "        print(\"Quotient  : \", x // y)\n",
    "        print(\"Remainder : \", x % y)\n",
    "\n",
    "if ch == '1':\n",
    "    addition(num1, num2)\n",
    "elif ch == '2':\n",
    "    subtraction(num1, num2)\n",
    "elif ch == '3':\n",
    "    multiplication(num1, num2)\n",
    "elif ch == '4':\n",
    "    division(num1, num2)\n",
    "else:\n",
    "    print(\"Invalid choice !\")\n"
   ]
  }
 ]
}
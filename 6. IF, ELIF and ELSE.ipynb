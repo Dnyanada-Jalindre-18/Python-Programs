{
 "metadata": {
  "language_info": {
   "codemirror_mode": {
    "name": "ipython",
    "version": 3
   },
   "file_extension": ".py",
   "mimetype": "text/x-python",
   "name": "python",
   "nbconvert_exporter": "python",
   "pygments_lexer": "ipython3",
   "version": "3.8.3-final"
  },
  "orig_nbformat": 2,
  "kernelspec": {
   "name": "Python 3.8.3 64-bit",
   "display_name": "Python 3.8.3 64-bit",
   "metadata": {
    "interpreter": {
     "hash": "bd9b9fa2e01573c04c615c80eb9deceb460a08e7f2fed43cdd24f3a908b6f3b1"
    }
   }
  }
 },
 "nbformat": 4,
 "nbformat_minor": 2,
 "cells": [
  {
   "source": [
    "# Decision Making in Python\n",
    "## Task 9\n",
    "* Ask 2 numbers from users and store it in num1 and num2\n",
    "* Ask user to press 1 for addition,2 for subtraction,3 for multiplication and 4 for division\n",
    "* based on number given by user do the math operation"
   ],
   "cell_type": "markdown",
   "metadata": {}
  },
  {
   "cell_type": "code",
   "execution_count": 3,
   "metadata": {},
   "outputs": [
    {
     "output_type": "stream",
     "name": "stdout",
     "text": [
      "num1 :   27  num2 :  12\n",
      "Entered choice :  4\n",
      "Quotient  :  2\n",
      "Remainder :  3\n"
     ]
    }
   ],
   "source": [
    "num1 = int(input(\"Enter 1st number  :\"))\n",
    "num2 = int(input(\"Enter 2nd number  :\"))\n",
    "\n",
    "print(\"num1 :  \", num1, \" num2 : \", num2)\n",
    "\n",
    "ch = input(\"1.Addition \\n2.Subtraction \\n3.Multiplication \\n4.Division \\nEnter your choice :\")\n",
    "print(\"Entered choice : \", ch)\n",
    "\n",
    "if ch == '1' :\n",
    "    print(\"Addition : \", num1 + num2 )\n",
    "elif ch == '2' :\n",
    "    print(\"Subtraction : \", num1 - num2 )\n",
    "elif ch == '3' :\n",
    "    print(\"Multiplication : \", num1 * num2 )\n",
    "elif ch == '4' :\n",
    "    if num2 == 0:\n",
    "        print(\" Can't divide {} by 0\".format(num1))         # divide by zero exception\n",
    "    else:\n",
    "        print(\"Quotient  : \", num1 // num2 )\n",
    "        print(\"Remainder : \", num1 % num2 )\n",
    "\n",
    "else :\n",
    "    print(\"Invalid Choice...!\") \n"
   ]
  }
 ]
}
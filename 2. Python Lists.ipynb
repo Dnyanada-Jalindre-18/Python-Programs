{
 "metadata": {
  "language_info": {
   "codemirror_mode": {
    "name": "ipython",
    "version": 3
   },
   "file_extension": ".py",
   "mimetype": "text/x-python",
   "name": "python",
   "nbconvert_exporter": "python",
   "pygments_lexer": "ipython3",
   "version": "3.8.3-final"
  },
  "orig_nbformat": 2,
  "kernelspec": {
   "name": "Python 3.8.3 64-bit",
   "display_name": "Python 3.8.3 64-bit",
   "metadata": {
    "interpreter": {
     "hash": "bd9b9fa2e01573c04c615c80eb9deceb460a08e7f2fed43cdd24f3a908b6f3b1"
    }
   }
  }
 },
 "nbformat": 4,
 "nbformat_minor": 2,
 "cells": [
  {
   "source": [
    "# Working with Python Lists\n",
    "## Task 3"
   ],
   "cell_type": "markdown",
   "metadata": {}
  },
  {
   "cell_type": "code",
   "execution_count": null,
   "metadata": {},
   "outputs": [],
   "source": [
    "# List conatining programming languages\n",
    "lang = ['C', 'C++', 'Java', 'R', 'Python', 'Javascript']\n",
    "lang"
   ]
  },
  {
   "source": [
    "### insert(index, element) : Inserts an element at specified position"
   ],
   "cell_type": "markdown",
   "metadata": {}
  },
  {
   "cell_type": "code",
   "execution_count": null,
   "metadata": {},
   "outputs": [],
   "source": [
    "lang.insert(2, 'Perl')      # inserts 'Perl' at 3rd position \n",
    "lang"
   ]
  },
  {
   "source": [
    "### Difference between remove() and pop()\n",
    "### remove(element) : removes the first occurance of element \n",
    "### pop(index)      : removes an element at specified index"
   ],
   "cell_type": "markdown",
   "metadata": {}
  },
  {
   "cell_type": "code",
   "execution_count": null,
   "metadata": {},
   "outputs": [],
   "source": [
    "lang.remove('Java')         # removes the specified element i.e Java\n",
    "lang"
   ]
  },
  {
   "cell_type": "code",
   "execution_count": null,
   "metadata": {},
   "outputs": [],
   "source": [
    "lang.pop(1)                 # removes element 'C++'\n",
    "lang"
   ]
  },
  {
   "source": [
    "### reverse() : reverses the order of list"
   ],
   "cell_type": "markdown",
   "metadata": {}
  },
  {
   "cell_type": "code",
   "execution_count": null,
   "metadata": {},
   "outputs": [],
   "source": [
    "lang.reverse()\n",
    "lang"
   ]
  },
  {
   "source": [
    "### sort() : Sorts the list in ascending order"
   ],
   "cell_type": "markdown",
   "metadata": {}
  },
  {
   "cell_type": "code",
   "execution_count": null,
   "metadata": {},
   "outputs": [],
   "source": [
    "lang.sort()                   # ascending order (by default)\n",
    "print(lang)\n",
    "lang.sort(reverse = True)     # descending order\n",
    "print(lang)"
   ]
  },
  {
   "source": [
    "### count(element) : returns the number of times the element appear in the list"
   ],
   "cell_type": "markdown",
   "metadata": {}
  },
  {
   "source": [
    "print(lang.count('Python'))     # returns 1     \n",
    "print(lang.count('Java'))       # returns 0 because 'Java' is not in the list"
   ],
   "cell_type": "code",
   "metadata": {},
   "execution_count": null,
   "outputs": []
  },
  {
   "source": [
    "### clear() : removes all the elements from the list"
   ],
   "cell_type": "markdown",
   "metadata": {}
  },
  {
   "cell_type": "code",
   "execution_count": null,
   "metadata": {},
   "outputs": [],
   "source": [
    "lang.clear()\n",
    "lang                            # Empty list"
   ]
  },
  {
   "source": [
    "## Task 4  "
   ],
   "cell_type": "markdown",
   "metadata": {}
  },
  {
   "cell_type": "code",
   "execution_count": null,
   "metadata": {},
   "outputs": [],
   "source": [
    "#Adding item 70 after 60 in the following Python List\n",
    "#input\n",
    "l1 = [10, 20, [30, 40, [50, 60], 80], 90, 100]\n",
    "#output\n",
    "#[10, 20, [30, 40, [50, 60, 70], 80], 90, 100]"
   ]
  },
  {
   "cell_type": "code",
   "execution_count": null,
   "metadata": {},
   "outputs": [],
   "source": [
    "# Solution :\n",
    "l1[2][2].insert(2, 70)             \n",
    "l1"
   ]
  },
  {
   "cell_type": "code",
   "execution_count": null,
   "metadata": {},
   "outputs": [],
   "source": [
    "#add sublist [7,8]\n",
    "#input\n",
    "l2 = [1,2,[3,4,5,6],9]\n",
    "#output\n",
    "#[1,2,[3,4,5,6,[7,8]],9]"
   ]
  },
  {
   "cell_type": "code",
   "execution_count": null,
   "metadata": {},
   "outputs": [],
   "source": [
    "# Solution\n",
    "l3 = [7, 8]\n",
    "l2[2].append(l3)\n",
    "l2"
   ]
  }
 ]
}
{
 "metadata": {
  "language_info": {
   "codemirror_mode": {
    "name": "ipython",
    "version": 3
   },
   "file_extension": ".py",
   "mimetype": "text/x-python",
   "name": "python",
   "nbconvert_exporter": "python",
   "pygments_lexer": "ipython3",
   "version": "3.8.3-final"
  },
  "orig_nbformat": 2,
  "kernelspec": {
   "name": "Python 3.8.3 64-bit",
   "display_name": "Python 3.8.3 64-bit",
   "metadata": {
    "interpreter": {
     "hash": "bd9b9fa2e01573c04c615c80eb9deceb460a08e7f2fed43cdd24f3a908b6f3b1"
    }
   }
  }
 },
 "nbformat": 4,
 "nbformat_minor": 2,
 "cells": [
  {
   "source": [
    "# Sets in Python"
   ],
   "cell_type": "markdown",
   "metadata": {}
  },
  {
   "cell_type": "code",
   "execution_count": 1,
   "metadata": {},
   "outputs": [],
   "source": [
    "A = {1, 2, 3, 4, 5}\n",
    "B = {4, 5, 6, 7, 8}"
   ]
  },
  {
   "source": [
    "### union() : returns set of all elements from both sets."
   ],
   "cell_type": "markdown",
   "metadata": {}
  },
  {
   "cell_type": "code",
   "execution_count": 2,
   "metadata": {},
   "outputs": [
    {
     "output_type": "stream",
     "name": "stdout",
     "text": [
      "{1, 2, 3, 4, 5, 6, 7, 8}\n{1, 2, 3, 4, 5, 6, 7, 8}\n{1, 2, 3, 4, 5, 6, 7, 8}\n"
     ]
    }
   ],
   "source": [
    "# Different ways of finding union of sets\n",
    "print(A | B)\n",
    "print(A.union(B))\n",
    "print(B.union(A))"
   ]
  },
  {
   "source": [
    "### intersection() : returns set of elements that are common in both the sets"
   ],
   "cell_type": "markdown",
   "metadata": {}
  },
  {
   "cell_type": "code",
   "execution_count": 3,
   "metadata": {},
   "outputs": [
    {
     "output_type": "stream",
     "name": "stdout",
     "text": [
      "{4, 5}\n{4, 5}\n{4, 5}\n"
     ]
    }
   ],
   "source": [
    "# Different ways of finding intersection of sets\n",
    "print(A & B)\n",
    "print(A.intersection(B))\n",
    "print(B.intersection(A))"
   ]
  },
  {
   "source": [
    "## Task 7\n",
    "### difference() : \n",
    "* Difference of the set B from set A i.e (A - B) is a set of elements that are only in A but not in B. \n",
    "* Similarly, B - A is a set of elements in B but not in A."
   ],
   "cell_type": "markdown",
   "metadata": {}
  },
  {
   "cell_type": "code",
   "execution_count": 4,
   "metadata": {},
   "outputs": [
    {
     "output_type": "execute_result",
     "data": {
      "text/plain": [
       "{1, 2, 3}"
      ]
     },
     "metadata": {},
     "execution_count": 4
    }
   ],
   "source": [
    "A.difference(B)         # returns elements that are in A but not in B"
   ]
  },
  {
   "cell_type": "code",
   "execution_count": 5,
   "metadata": {},
   "outputs": [
    {
     "output_type": "execute_result",
     "data": {
      "text/plain": [
       "{1, 2, 3}"
      ]
     },
     "metadata": {},
     "execution_count": 5
    }
   ],
   "source": [
    "A - B                   # similar to A.difference(B)"
   ]
  },
  {
   "source": [
    "B.difference(A)         # returns elements that are in B but not in A"
   ],
   "cell_type": "code",
   "metadata": {},
   "execution_count": 6,
   "outputs": [
    {
     "output_type": "execute_result",
     "data": {
      "text/plain": [
       "{6, 7, 8}"
      ]
     },
     "metadata": {},
     "execution_count": 6
    }
   ]
  },
  {
   "cell_type": "code",
   "execution_count": 7,
   "metadata": {},
   "outputs": [
    {
     "output_type": "execute_result",
     "data": {
      "text/plain": [
       "{6, 7, 8}"
      ]
     },
     "metadata": {},
     "execution_count": 7
    }
   ],
   "source": [
    "B - A                   #  similar to B.difference(A)"
   ]
  },
  {
   "source": [
    "### symmetric_difference()\n",
    "* Symmetric Difference of A and B is a set of elements in A and B but not in both (excluding the intersection)."
   ],
   "cell_type": "markdown",
   "metadata": {}
  },
  {
   "cell_type": "code",
   "execution_count": 8,
   "metadata": {},
   "outputs": [
    {
     "output_type": "execute_result",
     "data": {
      "text/plain": [
       "{1, 2, 3, 6, 7, 8}"
      ]
     },
     "metadata": {},
     "execution_count": 8
    }
   ],
   "source": [
    "A.symmetric_difference(B)       # Intersection of both sets is excluded"
   ]
  },
  {
   "cell_type": "code",
   "execution_count": 9,
   "metadata": {},
   "outputs": [
    {
     "output_type": "execute_result",
     "data": {
      "text/plain": [
       "{1, 2, 3, 6, 7, 8}"
      ]
     },
     "metadata": {},
     "execution_count": 9
    }
   ],
   "source": [
    "B.symmetric_difference(A)       # both methods return same output"
   ]
  },
  {
   "source": [
    "### Other set methods"
   ],
   "cell_type": "markdown",
   "metadata": {}
  },
  {
   "cell_type": "code",
   "execution_count": 10,
   "metadata": {},
   "outputs": [
    {
     "output_type": "execute_result",
     "data": {
      "text/plain": [
       "{'a', 'i', 'o', 'p', 'u', 'z'}"
      ]
     },
     "metadata": {},
     "execution_count": 10
    }
   ],
   "source": [
    "set1 = {'a', 'i', 'p', 'o', 'z', 'u'}\n",
    "set1"
   ]
  },
  {
   "cell_type": "code",
   "execution_count": 11,
   "metadata": {},
   "outputs": [
    {
     "output_type": "execute_result",
     "data": {
      "text/plain": [
       "{'a', 'e', 'i', 'o', 'p', 'u', 'z'}"
      ]
     },
     "metadata": {},
     "execution_count": 11
    }
   ],
   "source": [
    "# add() : adds an element to the set\n",
    "set1.add('e')\n",
    "set1"
   ]
  },
  {
   "cell_type": "code",
   "execution_count": 12,
   "metadata": {},
   "outputs": [
    {
     "output_type": "execute_result",
     "data": {
      "text/plain": [
       "{'a', 'e', 'i', 'o', 'u', 'z'}"
      ]
     },
     "metadata": {},
     "execution_count": 12
    }
   ],
   "source": [
    "# remove() : removes specified element\n",
    "set1.remove('p')\n",
    "set1"
   ]
  },
  {
   "cell_type": "code",
   "execution_count": 15,
   "metadata": {},
   "outputs": [
    {
     "output_type": "execute_result",
     "data": {
      "text/plain": [
       "'a'"
      ]
     },
     "metadata": {},
     "execution_count": 15
    }
   ],
   "source": [
    "# pop() : removes any random element\n",
    "set1.pop()"
   ]
  }
 ]
}